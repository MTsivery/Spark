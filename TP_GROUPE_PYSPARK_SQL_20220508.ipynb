{
  "nbformat": 4,
  "nbformat_minor": 0,
  "metadata": {
    "colab": {
      "name": "TP_GROUPE_PYSPARK_SQL_20220508.ipynb",
      "provenance": [],
      "collapsed_sections": [],
      "toc_visible": true
    },
    "kernelspec": {
      "name": "python3",
      "display_name": "Python 3"
    },
    "language_info": {
      "name": "python"
    }
  },
  "cells": [
    {
      "cell_type": "markdown",
      "source": [
        "#**PROJET: ANALYSE DES COMMANDES PAR COMMERCIAL**\n",
        "\n",
        "Team Master 2 (Data Analyst Vendredi-Samedi VS):\n",
        "- ED SOUDANE YASSINE\n",
        "- KOUKI OUSSAMA \n",
        "- MARIPO TSIVERY \n",
        "\n"
      ],
      "metadata": {
        "id": "D7PgI_v3Uf-_"
      }
    },
    {
      "cell_type": "markdown",
      "source": [
        "Install pyspark packages"
      ],
      "metadata": {
        "id": "njo8SSEWUPjg"
      }
    },
    {
      "cell_type": "code",
      "execution_count": null,
      "metadata": {
        "colab": {
          "base_uri": "https://localhost:8080/"
        },
        "id": "W9GDhusaC9to",
        "outputId": "4909a4cb-619a-4c99-d770-c478832c8113"
      },
      "outputs": [
        {
          "output_type": "stream",
          "name": "stdout",
          "text": [
            "Collecting pyspark\n",
            "  Downloading pyspark-3.2.1.tar.gz (281.4 MB)\n",
            "\u001b[K     |████████████████████████████████| 281.4 MB 33 kB/s \n",
            "\u001b[?25hCollecting py4j==0.10.9.3\n",
            "  Downloading py4j-0.10.9.3-py2.py3-none-any.whl (198 kB)\n",
            "\u001b[K     |████████████████████████████████| 198 kB 46.0 MB/s \n",
            "\u001b[?25hBuilding wheels for collected packages: pyspark\n",
            "  Building wheel for pyspark (setup.py) ... \u001b[?25l\u001b[?25hdone\n",
            "  Created wheel for pyspark: filename=pyspark-3.2.1-py2.py3-none-any.whl size=281853642 sha256=64b050b9bb5b58f788dfde7f889e2ef3f194c01a443e9d5040cf2db16a1016ae\n",
            "  Stored in directory: /root/.cache/pip/wheels/9f/f5/07/7cd8017084dce4e93e84e92efd1e1d5334db05f2e83bcef74f\n",
            "Successfully built pyspark\n",
            "Installing collected packages: py4j, pyspark\n",
            "Successfully installed py4j-0.10.9.3 pyspark-3.2.1\n"
          ]
        }
      ],
      "source": [
        "pip install pyspark"
      ]
    },
    {
      "cell_type": "markdown",
      "source": [
        "# 1- Create pyspark session"
      ],
      "metadata": {
        "id": "1AM0cSjbOhnS"
      }
    },
    {
      "cell_type": "code",
      "source": [
        "# Create Spark Session\n",
        "from pyspark.context import SparkContext, SparkConf\n",
        "from pyspark.sql.context import SQLContext\n",
        "from pyspark.sql.session import SparkSession\n",
        "from pyspark.sql.functions import sum, col, desc \n",
        "spark = SparkSession.builder.appName('Transformations').getOrCreate()"
      ],
      "metadata": {
        "id": "iC-qKo3FDHE9"
      },
      "execution_count": null,
      "outputs": []
    },
    {
      "cell_type": "markdown",
      "source": [
        "# 2- Read csv tables"
      ],
      "metadata": {
        "id": "IjG3AwrzO9yh"
      }
    },
    {
      "cell_type": "code",
      "source": [
        "commande = spark.read.option(\"header\",True) \\\n",
        "                .option(\"delimiter\",\",\") \\\n",
        "  .csv(\"/content/sample_data/projet spark/Commandes.csv\")"
      ],
      "metadata": {
        "id": "yt8m6GEaVZdK"
      },
      "execution_count": null,
      "outputs": []
    },
    {
      "cell_type": "code",
      "source": [
        "commerciaux = spark.read.option(\"header\",True) \\\n",
        "                .option(\"delimiter\",\",\") \\\n",
        "  .csv(\"/content/sample_data/projet spark/Commerciaux.csv\")"
      ],
      "metadata": {
        "id": "QmWtg5egQspZ"
      },
      "execution_count": null,
      "outputs": []
    },
    {
      "cell_type": "markdown",
      "source": [
        "# 3- Show dataframe"
      ],
      "metadata": {
        "id": "brkvibHsPHsp"
      }
    },
    {
      "cell_type": "code",
      "source": [
        "commerciaux.show()"
      ],
      "metadata": {
        "colab": {
          "base_uri": "https://localhost:8080/"
        },
        "id": "YIlkapbWV7mi",
        "outputId": "babd5ec5-f52f-4733-aa4f-6c7ff3408e9b"
      },
      "execution_count": null,
      "outputs": [
        {
          "output_type": "stream",
          "name": "stdout",
          "text": [
            "+---------------+----------------+-------------+-----------+------------+--------------------+--------------+\n",
            "|Num. Commercial|      Commercial|Date Embauche|Num. Bureau|Num. Manager|               Titre|Salaire Annuel|\n",
            "+---------------+----------------+-------------+-----------+------------+--------------------+--------------+\n",
            "|              1|   Charles Bonte|   01/10/2009|          5|           4|          Commercial|         61000|\n",
            "|              2|      Cyril Pons|   14/09/2008|          1|        null|           President|         80000|\n",
            "|              3|  Benoit Schmidt|   01/10/2009|          1|           4|          Commercial|         63000|\n",
            "|              4|    Andre Rollin|   03/09/2009|          3|           2|Directeur Commercial|         70000|\n",
            "|              5|   Roger Cormier|   17/10/2010|          3|           4|          Commercial|         61300|\n",
            "|              6|   Clara Clement|   17/01/2009|          4|           4|          Commercial|         61200|\n",
            "|              7|  Maelys Bossard|   22/11/2010|          2|           4|          Commercial|         61000|\n",
            "|              8|Charlotte Peyron|   05/03/2009|          2|           2| Coordinateur Ventes|         65000|\n",
            "|              9|       Lina Rieu|   15/02/2010|          1|           4|          Commercial|         60000|\n",
            "+---------------+----------------+-------------+-----------+------------+--------------------+--------------+\n",
            "\n"
          ]
        }
      ]
    },
    {
      "cell_type": "markdown",
      "source": [
        "# 4- Show columns"
      ],
      "metadata": {
        "id": "48DGYmWHPaCJ"
      }
    },
    {
      "cell_type": "code",
      "source": [
        "commerciaux.columns"
      ],
      "metadata": {
        "colab": {
          "base_uri": "https://localhost:8080/"
        },
        "id": "M1duVXKlbxqR",
        "outputId": "65be3eb3-9beb-48cc-ed3e-73e2cfd3786c"
      },
      "execution_count": null,
      "outputs": [
        {
          "output_type": "execute_result",
          "data": {
            "text/plain": [
              "['Num. Commercial',\n",
              " 'Commercial',\n",
              " 'Date Embauche',\n",
              " 'Num. Bureau',\n",
              " 'Num. Manager',\n",
              " 'Titre',\n",
              " 'Salaire Annuel']"
            ]
          },
          "metadata": {},
          "execution_count": 41
        }
      ]
    },
    {
      "cell_type": "code",
      "source": [
        "commande.columns"
      ],
      "metadata": {
        "colab": {
          "base_uri": "https://localhost:8080/"
        },
        "id": "b6Mw5KqycvpE",
        "outputId": "4ecacf5c-7d8e-412f-b555-a485aabbe69b"
      },
      "execution_count": null,
      "outputs": [
        {
          "output_type": "execute_result",
          "data": {
            "text/plain": [
              "['Date',\n",
              " 'Num_Client',\n",
              " 'NumCommercial',\n",
              " 'Poids',\n",
              " 'NumCommande',\n",
              " 'NumTransporteur',\n",
              " 'Annee',\n",
              " 'Mois',\n",
              " 'Annee-Mois',\n",
              " 'Mois Texte',\n",
              " 'Trimestre',\n",
              " 'Cle Objectif']"
            ]
          },
          "metadata": {},
          "execution_count": 42
        }
      ]
    },
    {
      "cell_type": "markdown",
      "source": [
        "# 5- Relation between table commerciaux and commande"
      ],
      "metadata": {
        "id": "oGzLL6x7PiiI"
      }
    },
    {
      "cell_type": "code",
      "source": [
        "commande.join(commerciaux,commande['NumCommercial'] == commerciaux['`Num. Commercial`'],\"inner\" ).columns"
      ],
      "metadata": {
        "colab": {
          "base_uri": "https://localhost:8080/"
        },
        "id": "7aX6Vc-4e_g6",
        "outputId": "480d427f-54ba-4e35-d95a-f4f9b898f777"
      },
      "execution_count": null,
      "outputs": [
        {
          "output_type": "execute_result",
          "data": {
            "text/plain": [
              "['Date',\n",
              " 'Num_Client',\n",
              " 'NumCommercial',\n",
              " 'Poids',\n",
              " 'NumCommande',\n",
              " 'NumTransporteur',\n",
              " 'Annee',\n",
              " 'Mois',\n",
              " 'Annee-Mois',\n",
              " 'Mois Texte',\n",
              " 'Trimestre',\n",
              " 'Cle Objectif',\n",
              " 'Num. Commercial',\n",
              " 'Commercial',\n",
              " 'Date Embauche',\n",
              " 'Num. Bureau',\n",
              " 'Num. Manager',\n",
              " 'Titre',\n",
              " 'Salaire Annuel']"
            ]
          },
          "metadata": {},
          "execution_count": 55
        }
      ]
    },
    {
      "cell_type": "markdown",
      "source": [
        ""
      ],
      "metadata": {
        "id": "0XX3RySFWKRX"
      }
    },
    {
      "cell_type": "markdown",
      "source": [
        "# 6- Create new column name for easy manipulation"
      ],
      "metadata": {
        "id": "4uFw_06eROhW"
      }
    },
    {
      "cell_type": "code",
      "source": [
        "newcol=['Date',\n",
        " 'Num_Client',\n",
        " 'NumCommercial',\n",
        " 'Poids',\n",
        " 'NumCommande',\n",
        " 'NumTransporteur',\n",
        " 'Annee',\n",
        " 'Mois',\n",
        " 'Annee-Mois',\n",
        " 'MoisTexte',\n",
        " 'Trimestre',\n",
        " 'CleObjectif',\n",
        " 'NumCommercial',\n",
        " 'Commercial',\n",
        " \"DateEmbauche\",\n",
        " 'NumBureau',\n",
        " 'NumManager',\n",
        " 'Titre',\n",
        " 'SalaireAnnuel']"
      ],
      "metadata": {
        "id": "cQs2uGSqfK5D"
      },
      "execution_count": null,
      "outputs": []
    },
    {
      "cell_type": "markdown",
      "source": [
        "# 7- Convert the inner join of the commerciaux and commande into a dataframe"
      ],
      "metadata": {
        "id": "EMLMOAngRY7v"
      }
    },
    {
      "cell_type": "code",
      "source": [
        "df=commande.join(commerciaux,commande['NumCommercial'] == commerciaux['`Num. Commercial`'],\"inner\" ).toDF('Date',\n",
        " 'Num_Client',\n",
        " 'NumCommercial',\n",
        " 'Poids',\n",
        " 'NumCommande',\n",
        " 'NumTransporteur',\n",
        " 'Annee',\n",
        " 'Mois',\n",
        " 'Annee_Mois',\n",
        " 'Mois_Texte',\n",
        " 'Trimestre',\n",
        " 'CleObjectif',\n",
        " 'NumCommercial',\n",
        " 'Commercial',\n",
        " \"DateEmbauche\",\n",
        " 'NBureau',\n",
        " 'NManager',\n",
        " 'Titre',\n",
        " 'Salaire_Annuel')"
      ],
      "metadata": {
        "id": "tPdUeAT4Xm_X"
      },
      "execution_count": null,
      "outputs": []
    },
    {
      "cell_type": "markdown",
      "source": [
        "# 8- Show the result of the conversion and sql query"
      ],
      "metadata": {
        "id": "Ew0TpfNrRe-M"
      }
    },
    {
      "cell_type": "code",
      "source": [
        "df.show()"
      ],
      "metadata": {
        "colab": {
          "base_uri": "https://localhost:8080/"
        },
        "id": "PKJxhHrWeu1K",
        "outputId": "539e6792-7efc-426c-f081-654665dbd093"
      },
      "execution_count": null,
      "outputs": [
        {
          "output_type": "stream",
          "name": "stdout",
          "text": [
            "+---------+----------+-------------+-----+-----------+---------------+-----+---------+-----------+----------+---------+--------------+-------------+----------------+------------+-------+--------+-------------------+--------------+\n",
            "|     Date|Num_Client|NumCommercial|Poids|NumCommande|NumTransporteur|Annee|     Mois| Annee_Mois|Mois_Texte|Trimestre|   CleObjectif|NumCommercial|      Commercial|DateEmbauche|NBureau|NManager|              Titre|Salaire_Annuel|\n",
            "+---------+----------+-------------+-----+-----------+---------------+-----+---------+-----------+----------+---------+--------------+-------------+----------------+------------+-------+--------+-------------------+--------------+\n",
            "|21-Jan-11|        25|            8|76.43|      10337|              2| 2011|01 - janv|vendredi-01|   janvier|       T1|vendredi-01@25|            8|Charlotte Peyron|  05/03/2009|      2|       2|Coordinateur Ventes|         65000|\n",
            "|19-Feb-11|        65|            2|33.19|      10262|              2| 2011|02 - fevr|  samedi-02|   fevrier|       T1|  samedi-02@65|            2|      Cyril Pons|  14/09/2008|      1|    null|          President|         80000|\n",
            "|02-Mar-11|        91|            8|45.53|      10374|              2| 2011|03 - mars|mercredi-03|      mars|       T1|mercredi-03@91|            8|Charlotte Peyron|  05/03/2009|      2|       2|Coordinateur Ventes|         65000|\n",
            "|16-Mar-11|        46|            2|65.97|      10357|              2| 2011|03 - mars|mercredi-03|      mars|       T1|mercredi-03@46|            2|      Cyril Pons|  14/09/2008|      1|    null|          President|         80000|\n",
            "|18-Mar-11|        63|            8|42.17|      10286|              2| 2011|03 - mars|vendredi-03|      mars|       T1|vendredi-03@63|            8|Charlotte Peyron|  05/03/2009|      2|       2|Coordinateur Ventes|         65000|\n",
            "|19-Mar-11|        67|            2|70.97|      10287|              2| 2011|03 - mars|  samedi-03|      mars|       T1|  samedi-03@67|            2|      Cyril Pons|  14/09/2008|      1|    null|          President|         80000|\n",
            "|04-Apr-11|        46|            2| 22.4|      10296|              2| 2011| 04 - avr|   lundi-04|     avril|       T2|   lundi-04@46|            2|      Cyril Pons|  14/09/2008|      1|    null|          President|         80000|\n",
            "|27-Apr-11|        33|            3|69.28|      10268|              2| 2011| 04 - avr|mercredi-04|     avril|       T2|mercredi-04@33|            3|  Benoit Schmidt|  01/10/2009|      1|       4|         Commercial|         63000|\n",
            "|09-May-11|         5|            2|50.46|      10278|              2| 2011| 05 - mai|   lundi-05|       mai|       T2|    lundi-05@5|            2|      Cyril Pons|  14/09/2008|      1|    null|          President|         80000|\n",
            "|24-May-11|        61|            2|21.08|      10291|              2| 2011| 05 - mai|   mardi-05|       mai|       T2|   mardi-05@61|            2|      Cyril Pons|  14/09/2008|      1|    null|          President|         80000|\n",
            "|02-Jun-11|        37|            2|78.52|      10298|              2| 2011|06 - juin|   jeudi-06|      juin|       T2|   jeudi-06@37|            2|      Cyril Pons|  14/09/2008|      1|    null|          President|         80000|\n",
            "|06-Jun-11|        49|            6|71.44|      10300|              1| 2011|06 - juin|   lundi-06|      juin|       T2|   lundi-06@49|            6|   Clara Clement|  17/01/2009|      4|       4|         Commercial|         61200|\n",
            "|05-Jul-11|        80|            1|22.95|      10276|              3| 2011|07 - juil|   mardi-07|   juillet|       T3|   mardi-07@80|            1|   Charles Bonte|  01/10/2009|      5|       4|         Commercial|         61000|\n",
            "|22-Jul-11|         1|            8|52.33|      10338|              2| 2011|07 - juil|vendredi-07|   juillet|       T3| vendredi-07@1|            8|Charlotte Peyron|  05/03/2009|      2|       2|Coordinateur Ventes|         65000|\n",
            "|25-Jul-11|        51|            1|58.76|      10339|              3| 2011|07 - juil|   lundi-07|   juillet|       T3|   lundi-07@51|            1|   Charles Bonte|  01/10/2009|      5|       4|         Commercial|         61000|\n",
            "|29-Jul-11|        89|            2|22.69|      10344|              2| 2011|07 - juil|vendredi-07|   juillet|       T3|vendredi-07@89|            2|      Cyril Pons|  14/09/2008|      1|    null|          President|         80000|\n",
            "|03-Aug-11|        21|            2|28.29|      10347|              2| 2011|08 - ao�t|mercredi-08|      ao�t|       T3|mercredi-08@21|            2|      Cyril Pons|  14/09/2008|      1|    null|          President|         80000|\n",
            "|08-Aug-11|        42|            1|65.12|      10351|              3| 2011|08 - ao�t|   lundi-08|      ao�t|       T3|   lundi-08@42|            1|   Charles Bonte|  01/10/2009|      5|       4|         Commercial|         61000|\n",
            "|22-Aug-11|        44|            8|40.91|      10362|              2| 2011|08 - ao�t|   lundi-08|      ao�t|       T3|   lundi-08@44|            8|Charlotte Peyron|  05/03/2009|      2|       2|Coordinateur Ventes|         65000|\n",
            "|23-Aug-11|        19|            2|33.65|      10364|              2| 2011|08 - ao�t|   mardi-08|      ao�t|       T3|   mardi-08@19|            2|      Cyril Pons|  14/09/2008|      1|    null|          President|         80000|\n",
            "+---------+----------+-------------+-----+-----------+---------------+-----+---------+-----------+----------+---------+--------------+-------------+----------------+------------+-------+--------+-------------------+--------------+\n",
            "only showing top 20 rows\n",
            "\n"
          ]
        }
      ]
    },
    {
      "cell_type": "markdown",
      "source": [
        "# 9- Change the type of the column Num_Client into int"
      ],
      "metadata": {
        "id": "rnNzDJ_wRkxD"
      }
    },
    {
      "cell_type": "code",
      "source": [
        "df.withColumn(\"Num_Client\",df['Num_Client'].cast('int'))"
      ],
      "metadata": {
        "colab": {
          "base_uri": "https://localhost:8080/"
        },
        "id": "bE8qSFDqjhVn",
        "outputId": "921b69df-c993-4bb2-8c83-98badf36fa54"
      },
      "execution_count": null,
      "outputs": [
        {
          "output_type": "execute_result",
          "data": {
            "text/plain": [
              "DataFrame[Date: string, Num_Client: int, NumCommercial: string, Poids: string, NumCommande: string, NumTransporteur: string, Annee: string, Mois: string, Annee_Mois: string, Mois_Texte: string, Trimestre: string, CleObjectif: string, NumCommercial: string, Commercial: string, DateEmbauche: string, NBureau: string, NManager: string, Titre: string, Salaire_Annuel: string]"
            ]
          },
          "metadata": {},
          "execution_count": 60
        }
      ]
    },
    {
      "cell_type": "markdown",
      "source": [
        "# 10- Create a temporary view of the new dataframe"
      ],
      "metadata": {
        "id": "m9gUZW7bSDY1"
      }
    },
    {
      "cell_type": "code",
      "source": [
        "df.createOrReplaceTempView(\"df\")"
      ],
      "metadata": {
        "id": "9y7Js-ZZivvj"
      },
      "execution_count": null,
      "outputs": []
    },
    {
      "cell_type": "markdown",
      "source": [
        "# 11-Show the columns of the new dataframe"
      ],
      "metadata": {
        "id": "9b6EE4J8SRQw"
      }
    },
    {
      "cell_type": "code",
      "source": [
        "df.columns"
      ],
      "metadata": {
        "colab": {
          "base_uri": "https://localhost:8080/"
        },
        "id": "4tmcbvNHk0Gr",
        "outputId": "f98a009f-7b4e-4174-e0fb-b07edc0ab894"
      },
      "execution_count": null,
      "outputs": [
        {
          "output_type": "execute_result",
          "data": {
            "text/plain": [
              "['Date',\n",
              " 'Num_Client',\n",
              " 'NumCommercial',\n",
              " 'Poids',\n",
              " 'NumCommande',\n",
              " 'NumTransporteur',\n",
              " 'Annee',\n",
              " 'Mois',\n",
              " 'Annee_Mois',\n",
              " 'Mois_Texte',\n",
              " 'Trimestre',\n",
              " 'CleObjectif',\n",
              " 'NumCommercial',\n",
              " 'Commercial',\n",
              " 'DateEmbauche',\n",
              " 'NBureau',\n",
              " 'NManager',\n",
              " 'Titre',\n",
              " 'Salaire_Annuel']"
            ]
          },
          "metadata": {},
          "execution_count": 62
        }
      ]
    },
    {
      "cell_type": "markdown",
      "source": [
        "# 12- Create new dataframe rslt from the the total sales by commercial by order asc"
      ],
      "metadata": {
        "id": "kJKbLEphSY-V"
      }
    },
    {
      "cell_type": "code",
      "source": [
        "rslt=spark.sql('select Commercial ,count(Commercial) from df group by Commercial order  by Commercial asc')"
      ],
      "metadata": {
        "id": "_q5OQEt2dWP8"
      },
      "execution_count": null,
      "outputs": []
    },
    {
      "cell_type": "markdown",
      "source": [
        "# 13- Display the datatype of the rslt"
      ],
      "metadata": {
        "id": "J8dU8utrTD1b"
      }
    },
    {
      "cell_type": "code",
      "source": [
        "rslt"
      ],
      "metadata": {
        "colab": {
          "base_uri": "https://localhost:8080/"
        },
        "id": "3wldvuXfi7R2",
        "outputId": "15cf24f5-a215-46f1-f70a-303562c6067b"
      },
      "execution_count": null,
      "outputs": [
        {
          "output_type": "execute_result",
          "data": {
            "text/plain": [
              "DataFrame[Commercial: string, count(Commercial): bigint]"
            ]
          },
          "metadata": {},
          "execution_count": 64
        }
      ]
    },
    {
      "cell_type": "markdown",
      "source": [
        "# 14- Show the content of the new dataframe rslt"
      ],
      "metadata": {
        "id": "f_RlAQEITJk9"
      }
    },
    {
      "cell_type": "code",
      "source": [
        "rslt.show()"
      ],
      "metadata": {
        "colab": {
          "base_uri": "https://localhost:8080/"
        },
        "id": "6cQNUkwhRJ_E",
        "outputId": "2d6b4ad2-b15c-47ba-8a4b-b60867830dd8"
      },
      "execution_count": null,
      "outputs": [
        {
          "output_type": "stream",
          "name": "stdout",
          "text": [
            "+----------------+-----------------+\n",
            "|      Commercial|count(Commercial)|\n",
            "+----------------+-----------------+\n",
            "|    Andre Rollin|               56|\n",
            "|  Benoit Schmidt|              154|\n",
            "|   Charles Bonte|              134|\n",
            "|Charlotte Peyron|              103|\n",
            "|   Clara Clement|               55|\n",
            "|      Cyril Pons|               55|\n",
            "|       Lina Rieu|              121|\n",
            "|  Maelys Bossard|              105|\n",
            "|   Roger Cormier|               53|\n",
            "+----------------+-----------------+\n",
            "\n"
          ]
        }
      ]
    },
    {
      "cell_type": "markdown",
      "source": [
        "# 15- Import graphics library"
      ],
      "metadata": {
        "id": "x1lkLDbyTPlH"
      }
    },
    {
      "cell_type": "code",
      "source": [
        "import plotly.graph_objs as go"
      ],
      "metadata": {
        "id": "My6CkQqHmnnA"
      },
      "execution_count": null,
      "outputs": []
    },
    {
      "cell_type": "markdown",
      "source": [
        "# 16- Convert into Pandas dataframe the spark dataframe rslt for graph usage"
      ],
      "metadata": {
        "id": "sYL1LKGpTVNR"
      }
    },
    {
      "cell_type": "code",
      "source": [
        "x=rslt.toPandas()"
      ],
      "metadata": {
        "id": "wDZ2iADlnMPI"
      },
      "execution_count": null,
      "outputs": []
    },
    {
      "cell_type": "markdown",
      "source": [
        "# 17- Show the columns of the pandas dataframe"
      ],
      "metadata": {
        "id": "cpFtJsHVTcKP"
      }
    },
    {
      "cell_type": "code",
      "source": [
        "rslt.columns"
      ],
      "metadata": {
        "colab": {
          "base_uri": "https://localhost:8080/"
        },
        "id": "cv0AkH_xnUvg",
        "outputId": "6d6bc6bd-a6f4-478e-e920-0e0ae49b3fce"
      },
      "execution_count": null,
      "outputs": [
        {
          "output_type": "execute_result",
          "data": {
            "text/plain": [
              "['Commercial', 'count(Commercial)']"
            ]
          },
          "metadata": {},
          "execution_count": 68
        }
      ]
    },
    {
      "cell_type": "markdown",
      "source": [
        "# 18- Import additional library for the graph"
      ],
      "metadata": {
        "id": "VYv-WWCiTlhM"
      }
    },
    {
      "cell_type": "code",
      "source": [
        "import matplotlib.pyplot as plt"
      ],
      "metadata": {
        "id": "RWuOLq5XnZzR"
      },
      "execution_count": null,
      "outputs": []
    },
    {
      "cell_type": "markdown",
      "source": [
        "# 19- Transform the dataframe into Pandas Dataframe and show the content"
      ],
      "metadata": {
        "id": "nsM1Ec1UT6NX"
      }
    },
    {
      "cell_type": "code",
      "source": [
        "rslt=rslt.toPandas()"
      ],
      "metadata": {
        "id": "fWm8DhX8pmF5"
      },
      "execution_count": null,
      "outputs": []
    },
    {
      "cell_type": "code",
      "source": [
        "rslt"
      ],
      "metadata": {
        "colab": {
          "base_uri": "https://localhost:8080/",
          "height": 332
        },
        "id": "GetuBxKipxP9",
        "outputId": "d21fa676-c779-431b-cf43-ad70e755ec78"
      },
      "execution_count": null,
      "outputs": [
        {
          "output_type": "execute_result",
          "data": {
            "text/plain": [
              "         Commercial  count(Commercial)\n",
              "0      Andre Rollin                 56\n",
              "1    Benoit Schmidt                154\n",
              "2     Charles Bonte                134\n",
              "3  Charlotte Peyron                103\n",
              "4     Clara Clement                 55\n",
              "5        Cyril Pons                 55\n",
              "6         Lina Rieu                121\n",
              "7    Maelys Bossard                105\n",
              "8     Roger Cormier                 53"
            ],
            "text/html": [
              "\n",
              "  <div id=\"df-83c2fa0a-99e5-42f4-8367-35b06e3da23f\">\n",
              "    <div class=\"colab-df-container\">\n",
              "      <div>\n",
              "<style scoped>\n",
              "    .dataframe tbody tr th:only-of-type {\n",
              "        vertical-align: middle;\n",
              "    }\n",
              "\n",
              "    .dataframe tbody tr th {\n",
              "        vertical-align: top;\n",
              "    }\n",
              "\n",
              "    .dataframe thead th {\n",
              "        text-align: right;\n",
              "    }\n",
              "</style>\n",
              "<table border=\"1\" class=\"dataframe\">\n",
              "  <thead>\n",
              "    <tr style=\"text-align: right;\">\n",
              "      <th></th>\n",
              "      <th>Commercial</th>\n",
              "      <th>count(Commercial)</th>\n",
              "    </tr>\n",
              "  </thead>\n",
              "  <tbody>\n",
              "    <tr>\n",
              "      <th>0</th>\n",
              "      <td>Andre Rollin</td>\n",
              "      <td>56</td>\n",
              "    </tr>\n",
              "    <tr>\n",
              "      <th>1</th>\n",
              "      <td>Benoit Schmidt</td>\n",
              "      <td>154</td>\n",
              "    </tr>\n",
              "    <tr>\n",
              "      <th>2</th>\n",
              "      <td>Charles Bonte</td>\n",
              "      <td>134</td>\n",
              "    </tr>\n",
              "    <tr>\n",
              "      <th>3</th>\n",
              "      <td>Charlotte Peyron</td>\n",
              "      <td>103</td>\n",
              "    </tr>\n",
              "    <tr>\n",
              "      <th>4</th>\n",
              "      <td>Clara Clement</td>\n",
              "      <td>55</td>\n",
              "    </tr>\n",
              "    <tr>\n",
              "      <th>5</th>\n",
              "      <td>Cyril Pons</td>\n",
              "      <td>55</td>\n",
              "    </tr>\n",
              "    <tr>\n",
              "      <th>6</th>\n",
              "      <td>Lina Rieu</td>\n",
              "      <td>121</td>\n",
              "    </tr>\n",
              "    <tr>\n",
              "      <th>7</th>\n",
              "      <td>Maelys Bossard</td>\n",
              "      <td>105</td>\n",
              "    </tr>\n",
              "    <tr>\n",
              "      <th>8</th>\n",
              "      <td>Roger Cormier</td>\n",
              "      <td>53</td>\n",
              "    </tr>\n",
              "  </tbody>\n",
              "</table>\n",
              "</div>\n",
              "      <button class=\"colab-df-convert\" onclick=\"convertToInteractive('df-83c2fa0a-99e5-42f4-8367-35b06e3da23f')\"\n",
              "              title=\"Convert this dataframe to an interactive table.\"\n",
              "              style=\"display:none;\">\n",
              "        \n",
              "  <svg xmlns=\"http://www.w3.org/2000/svg\" height=\"24px\"viewBox=\"0 0 24 24\"\n",
              "       width=\"24px\">\n",
              "    <path d=\"M0 0h24v24H0V0z\" fill=\"none\"/>\n",
              "    <path d=\"M18.56 5.44l.94 2.06.94-2.06 2.06-.94-2.06-.94-.94-2.06-.94 2.06-2.06.94zm-11 1L8.5 8.5l.94-2.06 2.06-.94-2.06-.94L8.5 2.5l-.94 2.06-2.06.94zm10 10l.94 2.06.94-2.06 2.06-.94-2.06-.94-.94-2.06-.94 2.06-2.06.94z\"/><path d=\"M17.41 7.96l-1.37-1.37c-.4-.4-.92-.59-1.43-.59-.52 0-1.04.2-1.43.59L10.3 9.45l-7.72 7.72c-.78.78-.78 2.05 0 2.83L4 21.41c.39.39.9.59 1.41.59.51 0 1.02-.2 1.41-.59l7.78-7.78 2.81-2.81c.8-.78.8-2.07 0-2.86zM5.41 20L4 18.59l7.72-7.72 1.47 1.35L5.41 20z\"/>\n",
              "  </svg>\n",
              "      </button>\n",
              "      \n",
              "  <style>\n",
              "    .colab-df-container {\n",
              "      display:flex;\n",
              "      flex-wrap:wrap;\n",
              "      gap: 12px;\n",
              "    }\n",
              "\n",
              "    .colab-df-convert {\n",
              "      background-color: #E8F0FE;\n",
              "      border: none;\n",
              "      border-radius: 50%;\n",
              "      cursor: pointer;\n",
              "      display: none;\n",
              "      fill: #1967D2;\n",
              "      height: 32px;\n",
              "      padding: 0 0 0 0;\n",
              "      width: 32px;\n",
              "    }\n",
              "\n",
              "    .colab-df-convert:hover {\n",
              "      background-color: #E2EBFA;\n",
              "      box-shadow: 0px 1px 2px rgba(60, 64, 67, 0.3), 0px 1px 3px 1px rgba(60, 64, 67, 0.15);\n",
              "      fill: #174EA6;\n",
              "    }\n",
              "\n",
              "    [theme=dark] .colab-df-convert {\n",
              "      background-color: #3B4455;\n",
              "      fill: #D2E3FC;\n",
              "    }\n",
              "\n",
              "    [theme=dark] .colab-df-convert:hover {\n",
              "      background-color: #434B5C;\n",
              "      box-shadow: 0px 1px 3px 1px rgba(0, 0, 0, 0.15);\n",
              "      filter: drop-shadow(0px 1px 2px rgba(0, 0, 0, 0.3));\n",
              "      fill: #FFFFFF;\n",
              "    }\n",
              "  </style>\n",
              "\n",
              "      <script>\n",
              "        const buttonEl =\n",
              "          document.querySelector('#df-83c2fa0a-99e5-42f4-8367-35b06e3da23f button.colab-df-convert');\n",
              "        buttonEl.style.display =\n",
              "          google.colab.kernel.accessAllowed ? 'block' : 'none';\n",
              "\n",
              "        async function convertToInteractive(key) {\n",
              "          const element = document.querySelector('#df-83c2fa0a-99e5-42f4-8367-35b06e3da23f');\n",
              "          const dataTable =\n",
              "            await google.colab.kernel.invokeFunction('convertToInteractive',\n",
              "                                                     [key], {});\n",
              "          if (!dataTable) return;\n",
              "\n",
              "          const docLinkHtml = 'Like what you see? Visit the ' +\n",
              "            '<a target=\"_blank\" href=https://colab.research.google.com/notebooks/data_table.ipynb>data table notebook</a>'\n",
              "            + ' to learn more about interactive tables.';\n",
              "          element.innerHTML = '';\n",
              "          dataTable['output_type'] = 'display_data';\n",
              "          await google.colab.output.renderOutput(dataTable, element);\n",
              "          const docLink = document.createElement('div');\n",
              "          docLink.innerHTML = docLinkHtml;\n",
              "          element.appendChild(docLink);\n",
              "        }\n",
              "      </script>\n",
              "    </div>\n",
              "  </div>\n",
              "  "
            ]
          },
          "metadata": {},
          "execution_count": 71
        }
      ]
    },
    {
      "cell_type": "markdown",
      "source": [
        "# 20- Graph of the Total Commandes per Commercial"
      ],
      "metadata": {
        "id": "qJC6d6auUNqT"
      }
    },
    {
      "cell_type": "code",
      "source": [
        "#Commande par commercial\n",
        "plt.title('Commandes par commercial')\n",
        "plt.xlabel('Nom Commercial')\n",
        "plt.ylabel('Total commandes')\n",
        "plt.bar(rslt['Commercial'],rslt['count(Commercial)'])\n",
        "plt.xticks(rotation=90)"
      ],
      "metadata": {
        "colab": {
          "base_uri": "https://localhost:8080/",
          "height": 386
        },
        "id": "TZiXHCGnnlJ8",
        "outputId": "21d36e38-9036-4b32-c7f3-2a5de615201a"
      },
      "execution_count": null,
      "outputs": [
        {
          "output_type": "execute_result",
          "data": {
            "text/plain": [
              "([0, 1, 2, 3, 4, 5, 6, 7, 8], <a list of 9 Text major ticklabel objects>)"
            ]
          },
          "metadata": {},
          "execution_count": 81
        },
        {
          "output_type": "display_data",
          "data": {
            "text/plain": [
              "<Figure size 432x288 with 1 Axes>"
            ],
            "image/png": "[encoded data removed]"
          },
          "metadata": {
            "needs_background": "light"
          }
        }
      ]
    },
    {
      "cell_type": "markdown",
      "source": [
        "# 21- Count the total commandes per year"
      ],
      "metadata": {
        "id": "bKLB2r7nUX2X"
      }
    },
    {
      "cell_type": "code",
      "source": [
        "rslt1=spark.sql('select Annee ,count(Annee) from df group by Annee order  by Annee asc')"
      ],
      "metadata": {
        "id": "EGeuWHqOsm1B"
      },
      "execution_count": null,
      "outputs": []
    },
    {
      "cell_type": "markdown",
      "source": [
        "# 22- Convert the result into Pandas dataframe for graphic usage"
      ],
      "metadata": {
        "id": "ZifNbKO4Uhth"
      }
    },
    {
      "cell_type": "code",
      "source": [
        "rslt1=rslt1.toPandas()"
      ],
      "metadata": {
        "id": "D-eiUgbls6be"
      },
      "execution_count": null,
      "outputs": []
    },
    {
      "cell_type": "markdown",
      "source": [
        "# 23- Show the count of commandes per year"
      ],
      "metadata": {
        "id": "0bhrVqegUwhN"
      }
    },
    {
      "cell_type": "code",
      "source": [
        "rslt1"
      ],
      "metadata": {
        "colab": {
          "base_uri": "https://localhost:8080/",
          "height": 175
        },
        "id": "z6YJEcSntsqQ",
        "outputId": "9176f917-bfdf-4ebc-be43-8a0f8495b3f8"
      },
      "execution_count": null,
      "outputs": [
        {
          "output_type": "execute_result",
          "data": {
            "text/plain": [
              "  Annee  count(Annee)\n",
              "0  2011            76\n",
              "1  2012           124\n",
              "2  2013           369\n",
              "3  2014           267"
            ],
            "text/html": [
              "\n",
              "  <div id=\"df-38ed91c4-a3a9-4c16-bc75-b5815dc8a2f5\">\n",
              "    <div class=\"colab-df-container\">\n",
              "      <div>\n",
              "<style scoped>\n",
              "    .dataframe tbody tr th:only-of-type {\n",
              "        vertical-align: middle;\n",
              "    }\n",
              "\n",
              "    .dataframe tbody tr th {\n",
              "        vertical-align: top;\n",
              "    }\n",
              "\n",
              "    .dataframe thead th {\n",
              "        text-align: right;\n",
              "    }\n",
              "</style>\n",
              "<table border=\"1\" class=\"dataframe\">\n",
              "  <thead>\n",
              "    <tr style=\"text-align: right;\">\n",
              "      <th></th>\n",
              "      <th>Annee</th>\n",
              "      <th>count(Annee)</th>\n",
              "    </tr>\n",
              "  </thead>\n",
              "  <tbody>\n",
              "    <tr>\n",
              "      <th>0</th>\n",
              "      <td>2011</td>\n",
              "      <td>76</td>\n",
              "    </tr>\n",
              "    <tr>\n",
              "      <th>1</th>\n",
              "      <td>2012</td>\n",
              "      <td>124</td>\n",
              "    </tr>\n",
              "    <tr>\n",
              "      <th>2</th>\n",
              "      <td>2013</td>\n",
              "      <td>369</td>\n",
              "    </tr>\n",
              "    <tr>\n",
              "      <th>3</th>\n",
              "      <td>2014</td>\n",
              "      <td>267</td>\n",
              "    </tr>\n",
              "  </tbody>\n",
              "</table>\n",
              "</div>\n",
              "      <button class=\"colab-df-convert\" onclick=\"convertToInteractive('df-38ed91c4-a3a9-4c16-bc75-b5815dc8a2f5')\"\n",
              "              title=\"Convert this dataframe to an interactive table.\"\n",
              "              style=\"display:none;\">\n",
              "        \n",
              "  <svg xmlns=\"http://www.w3.org/2000/svg\" height=\"24px\"viewBox=\"0 0 24 24\"\n",
              "       width=\"24px\">\n",
              "    <path d=\"M0 0h24v24H0V0z\" fill=\"none\"/>\n",
              "    <path d=\"M18.56 5.44l.94 2.06.94-2.06 2.06-.94-2.06-.94-.94-2.06-.94 2.06-2.06.94zm-11 1L8.5 8.5l.94-2.06 2.06-.94-2.06-.94L8.5 2.5l-.94 2.06-2.06.94zm10 10l.94 2.06.94-2.06 2.06-.94-2.06-.94-.94-2.06-.94 2.06-2.06.94z\"/><path d=\"M17.41 7.96l-1.37-1.37c-.4-.4-.92-.59-1.43-.59-.52 0-1.04.2-1.43.59L10.3 9.45l-7.72 7.72c-.78.78-.78 2.05 0 2.83L4 21.41c.39.39.9.59 1.41.59.51 0 1.02-.2 1.41-.59l7.78-7.78 2.81-2.81c.8-.78.8-2.07 0-2.86zM5.41 20L4 18.59l7.72-7.72 1.47 1.35L5.41 20z\"/>\n",
              "  </svg>\n",
              "      </button>\n",
              "      \n",
              "  <style>\n",
              "    .colab-df-container {\n",
              "      display:flex;\n",
              "      flex-wrap:wrap;\n",
              "      gap: 12px;\n",
              "    }\n",
              "\n",
              "    .colab-df-convert {\n",
              "      background-color: #E8F0FE;\n",
              "      border: none;\n",
              "      border-radius: 50%;\n",
              "      cursor: pointer;\n",
              "      display: none;\n",
              "      fill: #1967D2;\n",
              "      height: 32px;\n",
              "      padding: 0 0 0 0;\n",
              "      width: 32px;\n",
              "    }\n",
              "\n",
              "    .colab-df-convert:hover {\n",
              "      background-color: #E2EBFA;\n",
              "      box-shadow: 0px 1px 2px rgba(60, 64, 67, 0.3), 0px 1px 3px 1px rgba(60, 64, 67, 0.15);\n",
              "      fill: #174EA6;\n",
              "    }\n",
              "\n",
              "    [theme=dark] .colab-df-convert {\n",
              "      background-color: #3B4455;\n",
              "      fill: #D2E3FC;\n",
              "    }\n",
              "\n",
              "    [theme=dark] .colab-df-convert:hover {\n",
              "      background-color: #434B5C;\n",
              "      box-shadow: 0px 1px 3px 1px rgba(0, 0, 0, 0.15);\n",
              "      filter: drop-shadow(0px 1px 2px rgba(0, 0, 0, 0.3));\n",
              "      fill: #FFFFFF;\n",
              "    }\n",
              "  </style>\n",
              "\n",
              "      <script>\n",
              "        const buttonEl =\n",
              "          document.querySelector('#df-38ed91c4-a3a9-4c16-bc75-b5815dc8a2f5 button.colab-df-convert');\n",
              "        buttonEl.style.display =\n",
              "          google.colab.kernel.accessAllowed ? 'block' : 'none';\n",
              "\n",
              "        async function convertToInteractive(key) {\n",
              "          const element = document.querySelector('#df-38ed91c4-a3a9-4c16-bc75-b5815dc8a2f5');\n",
              "          const dataTable =\n",
              "            await google.colab.kernel.invokeFunction('convertToInteractive',\n",
              "                                                     [key], {});\n",
              "          if (!dataTable) return;\n",
              "\n",
              "          const docLinkHtml = 'Like what you see? Visit the ' +\n",
              "            '<a target=\"_blank\" href=https://colab.research.google.com/notebooks/data_table.ipynb>data table notebook</a>'\n",
              "            + ' to learn more about interactive tables.';\n",
              "          element.innerHTML = '';\n",
              "          dataTable['output_type'] = 'display_data';\n",
              "          await google.colab.output.renderOutput(dataTable, element);\n",
              "          const docLink = document.createElement('div');\n",
              "          docLink.innerHTML = docLinkHtml;\n",
              "          element.appendChild(docLink);\n",
              "        }\n",
              "      </script>\n",
              "    </div>\n",
              "  </div>\n",
              "  "
            ]
          },
          "metadata": {},
          "execution_count": 76
        }
      ]
    },
    {
      "cell_type": "markdown",
      "source": [
        ""
      ],
      "metadata": {
        "id": "K6f9JYuOZt72"
      }
    },
    {
      "cell_type": "markdown",
      "source": [
        "# 24- Final graph total commandes per year "
      ],
      "metadata": {
        "id": "hOJgbZuYU4LF"
      }
    },
    {
      "cell_type": "code",
      "source": [
        "# Add title and axis names\n",
        "plt.title('Graphe des commandes par année')\n",
        "plt.xlabel('Année')\n",
        "plt.ylabel('Total commandes')\n",
        "# Show graph\n",
        "plt.bar(rslt1['Annee'],rslt1['count(Annee)'])"
      ],
      "metadata": {
        "id": "sj4JpRRKtPX9",
        "colab": {
          "base_uri": "https://localhost:8080/",
          "height": 312
        },
        "outputId": "057af0cd-af3e-489d-920b-20e057050146"
      },
      "execution_count": null,
      "outputs": [
        {
          "output_type": "execute_result",
          "data": {
            "text/plain": [
              "<BarContainer object of 4 artists>"
            ]
          },
          "metadata": {},
          "execution_count": 80
        },
        {
          "output_type": "display_data",
          "data": {
            "text/plain": [
              "<Figure size 432x288 with 1 Axes>"
            ],
            "image/png": "[encoded data removed]"
          },
          "metadata": {
            "needs_background": "light"
          }
        }
      ]
    }
  ]
}